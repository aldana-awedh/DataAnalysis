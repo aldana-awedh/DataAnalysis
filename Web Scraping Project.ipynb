{
 "cells": [
  {
   "cell_type": "code",
   "execution_count": 1,
   "id": "fe581780-3182-4bb9-be3b-6b0a2e99f071",
   "metadata": {},
   "outputs": [],
   "source": [
    "from bs4 import BeautifulSoup\n",
    "import requests\n",
    "import pandas as pd"
   ]
  },
  {
   "cell_type": "code",
   "execution_count": 2,
   "id": "b05d9c74-bef2-4902-81d8-758ffff1eb6c",
   "metadata": {},
   "outputs": [],
   "source": [
    "# Pull page contents from designated URL\n",
    "url = 'https://en.wikipedia.org/wiki/List_of_largest_companies_in_the_United_States_by_revenue'\n",
    "page = requests.get(url)\n",
    "html_text = BeautifulSoup(page.text, 'html')"
   ]
  },
  {
   "cell_type": "code",
   "execution_count": 3,
   "id": "1d3797b8-6154-4a0d-954e-72aa1cb2e8bd",
   "metadata": {},
   "outputs": [],
   "source": [
    "# Extract desired table\n",
    "table = html_text.find_all('table', class_ = 'wikitable sortable')[0]"
   ]
  },
  {
   "cell_type": "code",
   "execution_count": 4,
   "id": "8bd0390a-4f04-42ea-bf37-2e17c58e4334",
   "metadata": {},
   "outputs": [],
   "source": [
    "# Extract headers from table\n",
    "table_headers = table.find_all('th')"
   ]
  },
  {
   "cell_type": "code",
   "execution_count": 40,
   "id": "142fcbae-0ae6-4a60-bb1f-f9fbdba9113d",
   "metadata": {},
   "outputs": [],
   "source": [
    "# Clean and format headers (remove tags and extra spaces)\n",
    "cleaned_table_headers = [(header.text.strip()) for header in table_headers]"
   ]
  },
  {
   "cell_type": "code",
   "execution_count": 41,
   "id": "c27557c9-acb0-42ea-8893-9e19554e8ce9",
   "metadata": {},
   "outputs": [],
   "source": [
    "# Add headers as columns to Pandas DataFrame\n",
    "df = pd.DataFrame(columns = cleaned_table_headers)"
   ]
  },
  {
   "cell_type": "code",
   "execution_count": 65,
   "id": "9a327e07-4825-405d-9e5d-86e625a656c8",
   "metadata": {},
   "outputs": [],
   "source": [
    "# Extract rows from table\n",
    "table_rows = table.find_all('tr')[1:]"
   ]
  },
  {
   "cell_type": "code",
   "execution_count": 85,
   "id": "80f69977-73e7-4faf-a6e2-fc0745d0c570",
   "metadata": {},
   "outputs": [],
   "source": [
    "# Extract data from rows and add to Pandas DataFrame\n",
    "for row in table_rows:\n",
    "    data = [(item.text.strip()) for item in row.find_all('td')]\n",
    "    df_length = len(df)\n",
    "    df.loc[df_length] = data"
   ]
  },
  {
   "cell_type": "code",
   "execution_count": 86,
   "id": "5b3afa0e-65c1-4e37-a950-21737706ad7b",
   "metadata": {},
   "outputs": [
    {
     "data": {
      "text/html": [
       "<div>\n",
       "<style scoped>\n",
       "    .dataframe tbody tr th:only-of-type {\n",
       "        vertical-align: middle;\n",
       "    }\n",
       "\n",
       "    .dataframe tbody tr th {\n",
       "        vertical-align: top;\n",
       "    }\n",
       "\n",
       "    .dataframe thead th {\n",
       "        text-align: right;\n",
       "    }\n",
       "</style>\n",
       "<table border=\"1\" class=\"dataframe\">\n",
       "  <thead>\n",
       "    <tr style=\"text-align: right;\">\n",
       "      <th></th>\n",
       "      <th>Rank</th>\n",
       "      <th>Name</th>\n",
       "      <th>Industry</th>\n",
       "      <th>Revenue (USD millions)</th>\n",
       "      <th>Revenue growth</th>\n",
       "      <th>Employees</th>\n",
       "      <th>Headquarters</th>\n",
       "    </tr>\n",
       "  </thead>\n",
       "  <tbody>\n",
       "    <tr>\n",
       "      <th>0</th>\n",
       "      <td>1</td>\n",
       "      <td>Walmart</td>\n",
       "      <td>Retail</td>\n",
       "      <td>611,289</td>\n",
       "      <td>6.7%</td>\n",
       "      <td>2,100,000</td>\n",
       "      <td>Bentonville, Arkansas</td>\n",
       "    </tr>\n",
       "    <tr>\n",
       "      <th>1</th>\n",
       "      <td>2</td>\n",
       "      <td>Amazon</td>\n",
       "      <td>Retail and cloud computing</td>\n",
       "      <td>513,983</td>\n",
       "      <td>9.4%</td>\n",
       "      <td>1,540,000</td>\n",
       "      <td>Seattle, Washington</td>\n",
       "    </tr>\n",
       "    <tr>\n",
       "      <th>2</th>\n",
       "      <td>3</td>\n",
       "      <td>ExxonMobil</td>\n",
       "      <td>Petroleum industry</td>\n",
       "      <td>413,680</td>\n",
       "      <td>44.8%</td>\n",
       "      <td>62,000</td>\n",
       "      <td>Spring, Texas</td>\n",
       "    </tr>\n",
       "    <tr>\n",
       "      <th>3</th>\n",
       "      <td>4</td>\n",
       "      <td>Apple</td>\n",
       "      <td>Electronics industry</td>\n",
       "      <td>394,328</td>\n",
       "      <td>7.8%</td>\n",
       "      <td>164,000</td>\n",
       "      <td>Cupertino, California</td>\n",
       "    </tr>\n",
       "    <tr>\n",
       "      <th>4</th>\n",
       "      <td>5</td>\n",
       "      <td>UnitedHealth Group</td>\n",
       "      <td>Healthcare</td>\n",
       "      <td>324,162</td>\n",
       "      <td>12.7%</td>\n",
       "      <td>400,000</td>\n",
       "      <td>Minnetonka, Minnesota</td>\n",
       "    </tr>\n",
       "    <tr>\n",
       "      <th>...</th>\n",
       "      <td>...</td>\n",
       "      <td>...</td>\n",
       "      <td>...</td>\n",
       "      <td>...</td>\n",
       "      <td>...</td>\n",
       "      <td>...</td>\n",
       "      <td>...</td>\n",
       "    </tr>\n",
       "    <tr>\n",
       "      <th>195</th>\n",
       "      <td>96</td>\n",
       "      <td>Best Buy</td>\n",
       "      <td>Retail</td>\n",
       "      <td>46,298</td>\n",
       "      <td>10.6%</td>\n",
       "      <td>71,100</td>\n",
       "      <td>Richfield, Minnesota</td>\n",
       "    </tr>\n",
       "    <tr>\n",
       "      <th>196</th>\n",
       "      <td>97</td>\n",
       "      <td>Bristol-Myers Squibb</td>\n",
       "      <td>Pharmaceutical industry</td>\n",
       "      <td>46,159</td>\n",
       "      <td>0.5%</td>\n",
       "      <td>34,300</td>\n",
       "      <td>New York City, New York</td>\n",
       "    </tr>\n",
       "    <tr>\n",
       "      <th>197</th>\n",
       "      <td>98</td>\n",
       "      <td>United Airlines</td>\n",
       "      <td>Airline</td>\n",
       "      <td>44,955</td>\n",
       "      <td>82.5%</td>\n",
       "      <td>92,795</td>\n",
       "      <td>Chicago, Illinois</td>\n",
       "    </tr>\n",
       "    <tr>\n",
       "      <th>198</th>\n",
       "      <td>99</td>\n",
       "      <td>Thermo Fisher Scientific</td>\n",
       "      <td>Laboratory instruments</td>\n",
       "      <td>44,915</td>\n",
       "      <td>14.5%</td>\n",
       "      <td>130,000</td>\n",
       "      <td>Waltham, Massachusetts</td>\n",
       "    </tr>\n",
       "    <tr>\n",
       "      <th>199</th>\n",
       "      <td>100</td>\n",
       "      <td>Qualcomm</td>\n",
       "      <td>Technology</td>\n",
       "      <td>44,200</td>\n",
       "      <td>31.7%</td>\n",
       "      <td>51,000</td>\n",
       "      <td>San Diego, California</td>\n",
       "    </tr>\n",
       "  </tbody>\n",
       "</table>\n",
       "<p>200 rows × 7 columns</p>\n",
       "</div>"
      ],
      "text/plain": [
       "    Rank                      Name                    Industry  \\\n",
       "0      1                   Walmart                      Retail   \n",
       "1      2                    Amazon  Retail and cloud computing   \n",
       "2      3                ExxonMobil          Petroleum industry   \n",
       "3      4                     Apple        Electronics industry   \n",
       "4      5        UnitedHealth Group                  Healthcare   \n",
       "..   ...                       ...                         ...   \n",
       "195   96                  Best Buy                      Retail   \n",
       "196   97      Bristol-Myers Squibb     Pharmaceutical industry   \n",
       "197   98           United Airlines                     Airline   \n",
       "198   99  Thermo Fisher Scientific      Laboratory instruments   \n",
       "199  100                  Qualcomm                  Technology   \n",
       "\n",
       "    Revenue (USD millions) Revenue growth  Employees             Headquarters  \n",
       "0                  611,289           6.7%  2,100,000    Bentonville, Arkansas  \n",
       "1                  513,983           9.4%  1,540,000      Seattle, Washington  \n",
       "2                  413,680          44.8%     62,000            Spring, Texas  \n",
       "3                  394,328           7.8%    164,000    Cupertino, California  \n",
       "4                  324,162          12.7%    400,000    Minnetonka, Minnesota  \n",
       "..                     ...            ...        ...                      ...  \n",
       "195                 46,298          10.6%     71,100     Richfield, Minnesota  \n",
       "196                 46,159           0.5%     34,300  New York City, New York  \n",
       "197                 44,955          82.5%     92,795        Chicago, Illinois  \n",
       "198                 44,915          14.5%    130,000   Waltham, Massachusetts  \n",
       "199                 44,200          31.7%     51,000    San Diego, California  \n",
       "\n",
       "[200 rows x 7 columns]"
      ]
     },
     "execution_count": 86,
     "metadata": {},
     "output_type": "execute_result"
    }
   ],
   "source": [
    "df"
   ]
  },
  {
   "cell_type": "code",
   "execution_count": 87,
   "id": "9ae87335-e932-42fc-b8e7-d1f5b728ff1e",
   "metadata": {},
   "outputs": [],
   "source": [
    "df.to_csv(r'C:\\Users\\aldan\\OneDrive\\Desktop\\Python Files\\web_scraping_project.csv', index = False)"
   ]
  },
  {
   "cell_type": "code",
   "execution_count": null,
   "id": "2faec713-384e-4ebe-8608-b177babd1809",
   "metadata": {},
   "outputs": [],
   "source": []
  }
 ],
 "metadata": {
  "kernelspec": {
   "display_name": "Python 3 (ipykernel)",
   "language": "python",
   "name": "python3"
  },
  "language_info": {
   "codemirror_mode": {
    "name": "ipython",
    "version": 3
   },
   "file_extension": ".py",
   "mimetype": "text/x-python",
   "name": "python",
   "nbconvert_exporter": "python",
   "pygments_lexer": "ipython3",
   "version": "3.11.7"
  }
 },
 "nbformat": 4,
 "nbformat_minor": 5
}
