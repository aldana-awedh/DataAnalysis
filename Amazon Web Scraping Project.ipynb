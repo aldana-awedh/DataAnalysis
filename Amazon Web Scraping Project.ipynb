{
 "cells": [
  {
   "cell_type": "code",
   "execution_count": null,
   "id": "cd5fecef-38c1-4b07-96ae-e9ef57e78d81",
   "metadata": {},
   "outputs": [],
   "source": [
    "from bs4 import BeautifulSoup \n",
    "import requests \n",
    "import csv\n",
    "import pandas as pd \n",
    "import time \n",
    "import datetime \n",
    "import smtplib"
   ]
  },
  {
   "cell_type": "code",
   "execution_count": null,
   "id": "fe25ae81-0e95-4081-b0cb-c6ede0c40748",
   "metadata": {},
   "outputs": [],
   "source": [
    "# Connect to webpage \n",
    "url = 'https://www.amazon.com/Funny-Data-Systems-Business-Analyst/dp/B07FNW9FGJ/ref=sr_1_3?dchild=1&keywords=data%2Banalyst%2Btshirt&qid=1626655184&sr=8-3&customId=B0752XJYNL&th=1'\n",
    "headers = {\"User-Agent\": \"Mozilla/5.0 (Windows NT 10.0; Win64; x64) AppleWebKit/537.36 (KHTML, like Gecko) Chrome/125.0.0.0 Safari/537.36\", \"Accept-Encoding\":\"gzip, deflate\", \"Accept\":\"text/html,application/xhtml+xml,application/xml;q=0.9,*/*;q=0.8\", \"DNT\":\"1\",\"Connection\":\"close\", \"Upgrade-Insecure-Requests\":\"1\"}\n",
    "page = requests.get(url, headers=headers)\n",
    "soup1 = BeautifulSoup(page.content,'html.parser')\n",
    "soup2 = BeautifulSoup(soup1.prettify(), 'html.parser')"
   ]
  },
  {
   "cell_type": "code",
   "execution_count": null,
   "id": "1ffcece3-5eef-4b20-a877-865e0029fd0f",
   "metadata": {},
   "outputs": [],
   "source": [
    "# Extract item title from webpage\n",
    "title = soup2.find('span', id='productTitle').text.strip()\n",
    "\n",
    "# Extract and clean item price from webpage \n",
    "raw_price = soup2.find('span', class_='a-price aok-align-center reinventPricePriceToPayMargin priceToPay').text.strip()\n",
    "price = ''.join([(val.strip()) for val in raw_price.split('\\n') if val != ''])[1:]"
   ]
  },
  {
   "cell_type": "code",
   "execution_count": null,
   "id": "13c0f3d5-eea1-46df-912a-46aa4befcd24",
   "metadata": {},
   "outputs": [],
   "source": [
    "# Today's Date\n",
    "date = datetime.date.today()"
   ]
  },
  {
   "cell_type": "code",
   "execution_count": null,
   "id": "16c404e1-2501-46ae-b9c6-51ee211f3079",
   "metadata": {},
   "outputs": [],
   "source": [
    "# Write extracted data to a CSV \n",
    "columns = ['Product', 'Price', 'Date']\n",
    "data = [title, price, date]\n",
    "\n",
    "with open('AmazonWebScrapingDataset.csv','w', newline='', encoding='UTF8') as f:\n",
    "    writer = csv.writer(f)\n",
    "    writer.writerow(columns)\n",
    "    writer.writerow(data)"
   ]
  },
  {
   "cell_type": "code",
   "execution_count": null,
   "id": "286c4a86-e0b4-49a9-bb45-2fb2dd0949a7",
   "metadata": {},
   "outputs": [],
   "source": [
    "# Create function to automate web scrpaing process\n",
    "def price_check():\n",
    "    url = 'https://www.amazon.com/Funny-Data-Systems-Business-Analyst/dp/B07FNW9FGJ/ref=sr_1_3?dchild=1&keywords=data%2Banalyst%2Btshirt&qid=1626655184&sr=8-3&customId=B0752XJYNL&th=1'\n",
    "    headers = {\"User-Agent\": \"Mozilla/5.0 (Windows NT 10.0; Win64; x64) AppleWebKit/537.36 (KHTML, like Gecko) Chrome/125.0.0.0 Safari/537.36\", \"Accept-Encoding\":\"gzip, deflate\", \"Accept\":\"text/html,application/xhtml+xml,application/xml;q=0.9,*/*;q=0.8\", \"DNT\":\"1\",\"Connection\":\"close\", \"Upgrade-Insecure-Requests\":\"1\"}\n",
    "    page = requests.get(url, headers=headers)\n",
    "    soup1 = BeautifulSoup(page.content,'html.parser')\n",
    "    soup2 = BeautifulSoup(soup1.prettify(), 'html.parser')\n",
    "    \n",
    "    title = soup2.find('span', id='productTitle').text.strip() \n",
    "    raw_price = soup2.find('span', class_='a-price aok-align-center reinventPricePriceToPayMargin priceToPay').text.strip()\n",
    "    price = ''.join([(val.strip()) for val in raw_price.split('\\n') if val != ''])[1:]\n",
    "    date = datetime.date.today()\n",
    "    \n",
    "    columns = ['Product', 'Price', 'Date']\n",
    "    data = [title, price, date]\n",
    "    # Append data to the CSV \n",
    "    with open('AmazonWebScrapingDataset.csv','a+', newline='', encoding='UTF8') as f:\n",
    "        writer = csv.writer(f)\n",
    "        writer.writerow(data)"
   ]
  },
  {
   "cell_type": "code",
   "execution_count": null,
   "id": "2f21556e-2ffe-4c7e-b7dc-095b02d1cd3b",
   "metadata": {},
   "outputs": [],
   "source": [
    "# Automate web scraping process to update datset daily \n",
    "while(True):\n",
    "    price_check()\n",
    "    time.sleep(24 * 60 * 60)"
   ]
  },
  {
   "cell_type": "code",
   "execution_count": null,
   "id": "1f4552ad-7e88-4ba8-882c-8e70f209e758",
   "metadata": {},
   "outputs": [],
   "source": [
    "# Read in generated CSV \n",
    "df = read_csv(r\"C:\\Users\\aldan\\AmazonWebScrapingDataset.csv\")\n",
    "df"
   ]
  }
 ],
 "metadata": {
  "kernelspec": {
   "display_name": "Python 3 (ipykernel)",
   "language": "python",
   "name": "python3"
  },
  "language_info": {
   "codemirror_mode": {
    "name": "ipython",
    "version": 3
   },
   "file_extension": ".py",
   "mimetype": "text/x-python",
   "name": "python",
   "nbconvert_exporter": "python",
   "pygments_lexer": "ipython3",
   "version": "3.11.7"
  }
 },
 "nbformat": 4,
 "nbformat_minor": 5
}
